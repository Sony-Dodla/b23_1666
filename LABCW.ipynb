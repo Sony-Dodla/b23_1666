{
  "nbformat": 4,
  "nbformat_minor": 0,
  "metadata": {
    "colab": {
      "provenance": [],
      "authorship_tag": "ABX9TyNM4cVq0CN995rFwO3RuIiL",
      "include_colab_link": true
    },
    "kernelspec": {
      "name": "python3",
      "display_name": "Python 3"
    },
    "language_info": {
      "name": "python"
    }
  },
  "cells": [
    {
      "cell_type": "markdown",
      "metadata": {
        "id": "view-in-github",
        "colab_type": "text"
      },
      "source": [
        "<a href=\"https://colab.research.google.com/github/Sony-Dodla/b23_1666/blob/main/LABCW.ipynb\" target=\"_parent\"><img src=\"https://colab.research.google.com/assets/colab-badge.svg\" alt=\"Open In Colab\"/></a>"
      ]
    },
    {
      "cell_type": "markdown",
      "source": [
        "##List"
      ],
      "metadata": {
        "id": "-l1_W9IjF5-D"
      }
    },
    {
      "cell_type": "markdown",
      "source": [
        "##searching the element"
      ],
      "metadata": {
        "id": "BfM7Jiwo3oe9"
      }
    },
    {
      "cell_type": "code",
      "execution_count": 2,
      "metadata": {
        "colab": {
          "base_uri": "https://localhost:8080/"
        },
        "id": "RMZk7qhmx2nc",
        "outputId": "b1283cd1-067f-4a27-ea9a-51180a835362"
      },
      "outputs": [
        {
          "output_type": "stream",
          "name": "stdout",
          "text": [
            "[10, 20, 30, 40]\n",
            "found\n"
          ]
        }
      ],
      "source": [
        "l=[10,20,30,40]\n",
        "print(l)\n",
        "if 20 in l:\n",
        "  print(\"found\")\n",
        "else:\n",
        "    print(\"not found\")"
      ]
    },
    {
      "cell_type": "markdown",
      "source": [
        "##Datatype"
      ],
      "metadata": {
        "id": "FejyMKFC3cNv"
      }
    },
    {
      "cell_type": "code",
      "source": [
        "l=[10,99.9,\"CSE\"]\n",
        "for i in l:\n",
        "  print(type(i),i)"
      ],
      "metadata": {
        "colab": {
          "base_uri": "https://localhost:8080/"
        },
        "id": "890d9Ost2TZd",
        "outputId": "ad362955-1b7e-4cad-d07a-54b8acbf699d"
      },
      "execution_count": 3,
      "outputs": [
        {
          "output_type": "stream",
          "name": "stdout",
          "text": [
            "<class 'int'> 10\n",
            "<class 'float'> 99.9\n",
            "<class 'str'> CSE\n"
          ]
        }
      ]
    },
    {
      "cell_type": "markdown",
      "source": [
        "##operations"
      ],
      "metadata": {
        "id": "xcJe0srJ3h9p"
      }
    },
    {
      "cell_type": "code",
      "source": [
        "l=[10,20,30,40]\n",
        "l.append(50)\n",
        "print(l)\n",
        "l.remove(30)\n",
        "print(l)\n",
        "l.insert(2,25)\n",
        "print(l)\n",
        "l.pop()"
      ],
      "metadata": {
        "colab": {
          "base_uri": "https://localhost:8080/"
        },
        "id": "qKv6fuO52h3z",
        "outputId": "523b73d5-d0c6-4539-f33d-175b640fa72f"
      },
      "execution_count": 4,
      "outputs": [
        {
          "output_type": "stream",
          "name": "stdout",
          "text": [
            "[10, 20, 30, 40, 50]\n",
            "[10, 20, 40, 50]\n",
            "[10, 20, 25, 40, 50]\n"
          ]
        },
        {
          "output_type": "execute_result",
          "data": {
            "text/plain": [
              "50"
            ]
          },
          "metadata": {},
          "execution_count": 4
        }
      ]
    },
    {
      "cell_type": "code",
      "source": [
        "l=[9,73,65,44,1,98,70]\n",
        "l.sort()\n",
        "print(l)\n",
        "l.remove(65)\n",
        "print(l)\n",
        "print(sum(l))\n",
        "print(min(l))\n",
        "print(max(l))"
      ],
      "metadata": {
        "colab": {
          "base_uri": "https://localhost:8080/"
        },
        "id": "lERakZtq26fZ",
        "outputId": "72e7a1b3-6bfd-4c01-b8de-58b973569a1d"
      },
      "execution_count": 34,
      "outputs": [
        {
          "output_type": "stream",
          "name": "stdout",
          "text": [
            "[1, 9, 44, 65, 70, 73, 98]\n",
            "[1, 9, 44, 70, 73, 98]\n",
            "295\n",
            "1\n",
            "98\n"
          ]
        }
      ]
    },
    {
      "cell_type": "markdown",
      "source": [
        "##Nested list"
      ],
      "metadata": {
        "id": "8SuYk-s65mu9"
      }
    },
    {
      "cell_type": "code",
      "source": [
        "student=[[10,20],[30,40],[50,60],[70,80]]\n",
        "print(student)"
      ],
      "metadata": {
        "colab": {
          "base_uri": "https://localhost:8080/"
        },
        "id": "_qrR7fbN3u9C",
        "outputId": "ebdad994-006d-4e03-adee-5f40f9170a59"
      },
      "execution_count": 7,
      "outputs": [
        {
          "output_type": "stream",
          "name": "stdout",
          "text": [
            "[[10, 20], [30, 40], [50, 60], [70, 80]]\n"
          ]
        }
      ]
    },
    {
      "cell_type": "markdown",
      "source": [
        "##Tuple"
      ],
      "metadata": {
        "id": "UIjAlxE76W-4"
      }
    },
    {
      "cell_type": "code",
      "source": [
        "t=(10,66.6,\"BTECH\")\n",
        "for i in t:\n",
        "  print(type(i),i)"
      ],
      "metadata": {
        "colab": {
          "base_uri": "https://localhost:8080/"
        },
        "id": "P9tNHHm66b6f",
        "outputId": "063ff67a-2e70-4720-8be7-5b5ab156f6c1"
      },
      "execution_count": 8,
      "outputs": [
        {
          "output_type": "stream",
          "name": "stdout",
          "text": [
            "<class 'int'> 10\n",
            "<class 'float'> 66.6\n",
            "<class 'str'> BTECH\n"
          ]
        }
      ]
    },
    {
      "cell_type": "code",
      "source": [
        "t=(10,20,30,40,10)\n",
        "print(t)\n",
        "if 20 in t:\n",
        "  print(\"found\")\n",
        "else:\n",
        "    print(\"not found\")\n",
        ""
      ],
      "metadata": {
        "colab": {
          "base_uri": "https://localhost:8080/"
        },
        "id": "WW7h8KJD6tOt",
        "outputId": "2b3600ef-c579-47ca-dc7a-ed7d77fafbd8"
      },
      "execution_count": 12,
      "outputs": [
        {
          "output_type": "stream",
          "name": "stdout",
          "text": [
            "(10, 20, 30, 40, 10)\n",
            "found\n"
          ]
        }
      ]
    },
    {
      "cell_type": "code",
      "source": [
        "t=(1,2,3,1,5,3,6,7,2,3)\n",
        "print(t.count(2))\n",
        "print(t.index(3))"
      ],
      "metadata": {
        "colab": {
          "base_uri": "https://localhost:8080/"
        },
        "id": "5yxTyIzC8IBG",
        "outputId": "2ed77e99-a31f-40d2-eb5e-d19fb0468020"
      },
      "execution_count": 13,
      "outputs": [
        {
          "output_type": "stream",
          "name": "stdout",
          "text": [
            "2\n",
            "2\n"
          ]
        }
      ]
    },
    {
      "cell_type": "code",
      "source": [
        "l=[10,20,30,40,50]\n",
        "mytuple=tuple(l)\n",
        "print(mytuple)\n"
      ],
      "metadata": {
        "colab": {
          "base_uri": "https://localhost:8080/"
        },
        "id": "_gw8cKK_8aPu",
        "outputId": "267b48c7-bdde-4de4-ed6f-eab23a4c84da"
      },
      "execution_count": 35,
      "outputs": [
        {
          "output_type": "stream",
          "name": "stdout",
          "text": [
            "10 20 30 40 50\n"
          ]
        }
      ]
    },
    {
      "cell_type": "code",
      "source": [
        "t=(20,10,49,55,40)\n",
        "print(max(t))\n",
        "print(min(t))\n",
        "print(t.count(55))"
      ],
      "metadata": {
        "colab": {
          "base_uri": "https://localhost:8080/"
        },
        "id": "4TOhbChL8s9F",
        "outputId": "8083501b-960e-4048-e318-82214ed54e82"
      },
      "execution_count": 16,
      "outputs": [
        {
          "output_type": "stream",
          "name": "stdout",
          "text": [
            "55\n",
            "10\n",
            "1\n"
          ]
        }
      ]
    },
    {
      "cell_type": "markdown",
      "source": [
        "##Nested tuple"
      ],
      "metadata": {
        "id": "rsiAc4I09rmV"
      }
    },
    {
      "cell_type": "code",
      "source": [
        "student=((10,20),(30,40),(50,60))\n",
        "print(student)"
      ],
      "metadata": {
        "colab": {
          "base_uri": "https://localhost:8080/"
        },
        "id": "IgpXTPFq9dQr",
        "outputId": "b1e2d8ec-dffa-4f70-a6f7-99fe32a86658"
      },
      "execution_count": 31,
      "outputs": [
        {
          "output_type": "stream",
          "name": "stdout",
          "text": [
            "((10, 20), (30, 40), (50, 60))\n"
          ]
        }
      ]
    },
    {
      "cell_type": "markdown",
      "source": [
        "##Dictionary"
      ],
      "metadata": {
        "id": "Jrh6dL-bD5Fe"
      }
    },
    {
      "cell_type": "code",
      "source": [
        "student={\"name\":\"sony\",\"id\":\"101\",\"branch\":\"CSE\"}\n",
        "print(student.keys())\n",
        "print(student.values())\n",
        "print(student.items())"
      ],
      "metadata": {
        "colab": {
          "base_uri": "https://localhost:8080/"
        },
        "id": "r1TGBZpB-NVS",
        "outputId": "8fad9e89-74aa-4772-9f0f-2590d999b26a"
      },
      "execution_count": 22,
      "outputs": [
        {
          "output_type": "stream",
          "name": "stdout",
          "text": [
            "dict_keys(['name', 'id', 'branch'])\n",
            "dict_values(['sony', '101', 'CSE'])\n",
            "dict_items([('name', 'sony'), ('id', '101'), ('branch', 'CSE')])\n"
          ]
        }
      ]
    },
    {
      "cell_type": "code",
      "source": [
        "student={\"name\":\"sony\",\"id\":\"101\",\"branch\":\"CSE\"}\n",
        "for key,value in student.items():\n",
        "  print(key,\":\",value)"
      ],
      "metadata": {
        "colab": {
          "base_uri": "https://localhost:8080/"
        },
        "id": "DpqZtcdKBIpX",
        "outputId": "1109cd37-ce0a-4ddd-e080-5c841f5cb556"
      },
      "execution_count": 24,
      "outputs": [
        {
          "output_type": "stream",
          "name": "stdout",
          "text": [
            "name : sony\n",
            "id : 101\n",
            "branch : CSE\n"
          ]
        }
      ]
    },
    {
      "cell_type": "code",
      "source": [
        "student={\"name\":\"sony\",\"id\":\"101\",\"branch\":\"CSE\"}\n",
        "print(student)\n",
        "student[\"branch\"]=\"AIML\"\n",
        "print(student)\n",
        "del(student[\"id\"])\n",
        "print(student)"
      ],
      "metadata": {
        "colab": {
          "base_uri": "https://localhost:8080/"
        },
        "id": "oWDnn__-B-iW",
        "outputId": "eba528c1-3be1-4436-cf67-5f981b39a155"
      },
      "execution_count": 27,
      "outputs": [
        {
          "output_type": "stream",
          "name": "stdout",
          "text": [
            "{'name': 'sony', 'id': '101', 'branch': 'CSE'}\n",
            "{'name': 'sony', 'id': '101', 'branch': 'AIML'}\n",
            "{'name': 'sony', 'branch': 'AIML'}\n"
          ]
        }
      ]
    },
    {
      "cell_type": "markdown",
      "source": [
        "##nested dictionary"
      ],
      "metadata": {
        "id": "x5qNmaNmDls7"
      }
    },
    {
      "cell_type": "code",
      "source": [
        "student={\"101\":{\"name\":\"c\",\"id\":\"1\",\"branch\":\"CSE\"},\"102\":{\"name\":\"python\",\"id\":\"2\",\"branch\":\"AIML\"}}\n",
        "print(student)\n",
        "print(student[\"101\"][\"name\"])"
      ],
      "metadata": {
        "colab": {
          "base_uri": "https://localhost:8080/"
        },
        "id": "ktvGxRo5C8mh",
        "outputId": "891ed225-85df-42cb-ebb3-80c60ddf30b7"
      },
      "execution_count": 28,
      "outputs": [
        {
          "output_type": "stream",
          "name": "stdout",
          "text": [
            "{'101': {'name': 'c', 'id': '1', 'branch': 'CSE'}, '102': {'name': 'python', 'id': '2', 'branch': 'AIML'}}\n",
            "c\n"
          ]
        }
      ]
    },
    {
      "cell_type": "markdown",
      "source": [
        "##Set"
      ],
      "metadata": {
        "id": "6KMOrThwGBBT"
      }
    },
    {
      "cell_type": "code",
      "source": [
        "s={1,2,3,4}\n",
        "print(s)"
      ],
      "metadata": {
        "colab": {
          "base_uri": "https://localhost:8080/"
        },
        "id": "0_jZLBzpF_61",
        "outputId": "7096480f-97a7-4df6-c9c8-74984b702cd6"
      },
      "execution_count": 37,
      "outputs": [
        {
          "output_type": "stream",
          "name": "stdout",
          "text": [
            "{1, 2, 3, 4}\n"
          ]
        }
      ]
    },
    {
      "cell_type": "code",
      "source": [
        "s={1,2,3,2,2}\n",
        "print(s)"
      ],
      "metadata": {
        "colab": {
          "base_uri": "https://localhost:8080/"
        },
        "id": "Mwjo2lgxHwWf",
        "outputId": "725d3e23-035f-4ecc-b543-ac2fe6a9bff3"
      },
      "execution_count": 39,
      "outputs": [
        {
          "output_type": "stream",
          "name": "stdout",
          "text": [
            "{1, 2, 3}\n"
          ]
        }
      ]
    },
    {
      "cell_type": "code",
      "source": [
        "s={1,2,3,4}\n",
        "for i in s:\n",
        "  print(i)"
      ],
      "metadata": {
        "colab": {
          "base_uri": "https://localhost:8080/"
        },
        "id": "B3lZ3LNQH4fF",
        "outputId": "1e24a462-b874-48f9-d485-47ae7cc030e9"
      },
      "execution_count": 42,
      "outputs": [
        {
          "output_type": "stream",
          "name": "stdout",
          "text": [
            "1\n",
            "2\n",
            "3\n",
            "4\n"
          ]
        }
      ]
    },
    {
      "cell_type": "code",
      "source": [
        "s={1,2,3,4}\n",
        "if 2 in s:\n",
        "    print(\"f\")\n",
        "else:\n",
        "    print(\"NF\")"
      ],
      "metadata": {
        "colab": {
          "base_uri": "https://localhost:8080/"
        },
        "id": "_u1ybwytITNV",
        "outputId": "5f73db74-ef30-4504-82a3-6257ab6b737f"
      },
      "execution_count": 45,
      "outputs": [
        {
          "output_type": "stream",
          "name": "stdout",
          "text": [
            "f\n"
          ]
        }
      ]
    },
    {
      "cell_type": "code",
      "source": [
        "A={1,2,3}\n",
        "B={4,5,6}\n",
        "print(\"union\",A|B)\n",
        "print(\"intersection\",A&B)\n",
        "print(\"difference\",A-B)\n",
        "print(\"symmetric difference\",A^B)"
      ],
      "metadata": {
        "colab": {
          "base_uri": "https://localhost:8080/"
        },
        "id": "0W1x8UaTIafE",
        "outputId": "f0adfb78-eff8-46bc-cd01-bd938f02a8bc"
      },
      "execution_count": 48,
      "outputs": [
        {
          "output_type": "stream",
          "name": "stdout",
          "text": [
            "union {1, 2, 3, 4, 5, 6}\n",
            "intersection set()\n",
            "difference {1, 2, 3}\n",
            "symmetric difference {1, 2, 3, 4, 5, 6}\n"
          ]
        }
      ]
    },
    {
      "cell_type": "code",
      "source": [
        "S={1,2,3}\n",
        "s.add(4)\n",
        "print(s)\n",
        "s.remove(2)\n",
        "print(s)\n",
        "s.clear()\n",
        "print(s)"
      ],
      "metadata": {
        "colab": {
          "base_uri": "https://localhost:8080/"
        },
        "id": "9aUxeg9CJEdd",
        "outputId": "169314d5-060e-456c-9372-cf68fc0fbfff"
      },
      "execution_count": 49,
      "outputs": [
        {
          "output_type": "stream",
          "name": "stdout",
          "text": [
            "{1, 2, 3, 4}\n",
            "{1, 3, 4}\n",
            "set()\n"
          ]
        }
      ]
    }
  ]
}