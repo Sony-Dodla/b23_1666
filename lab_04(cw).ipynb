{
  "nbformat": 4,
  "nbformat_minor": 0,
  "metadata": {
    "colab": {
      "provenance": [],
      "authorship_tag": "ABX9TyMaNECd4ZxwrCosrlNUjy7A",
      "include_colab_link": true
    },
    "kernelspec": {
      "name": "python3",
      "display_name": "Python 3"
    },
    "language_info": {
      "name": "python"
    }
  },
  "cells": [
    {
      "cell_type": "markdown",
      "metadata": {
        "id": "view-in-github",
        "colab_type": "text"
      },
      "source": [
        "<a href=\"https://colab.research.google.com/github/2303A51680/b23_1680/blob/main/class%20work(26-08-25).ipynb\" target=\"_parent\"><img src=\"https://colab.research.google.com/assets/colab-badge.svg\" alt=\"Open In Colab\"/></a>"
      ]
    },
    {
      "cell_type": "code",
      "execution_count": 17,
      "metadata": {
        "colab": {
          "base_uri": "https://localhost:8080/"
        },
        "id": "H56vyZVQihY9",
        "outputId": "b1bb1df2-2b19-4d40-8786-678f29c9bbba"
      },
      "outputs": [
        {
          "output_type": "stream",
          "name": "stdout",
          "text": [
            "Pandas Series\n",
            "0    10\n",
            "1    20\n",
            "2    30\n",
            "3    40\n",
            "4    50\n",
            "dtype: int64\n"
          ]
        }
      ],
      "source": [
        "import pandas as pd\n",
        "data=[10,20,30,40,50]\n",
        "series=pd.Series(data)\n",
        "print(\"Pandas Series\")\n",
        "print(series)"
      ]
    },
    {
      "cell_type": "markdown",
      "source": [
        "series with custom index"
      ],
      "metadata": {
        "id": "9R53kcSSo3hU"
      }
    },
    {
      "cell_type": "code",
      "source": [
        "import pandas as pd\n",
        "data=[10,20,30,40,50]\n",
        "index_labels=['a','b','c','d','e']\n",
        "series=pd.Series(data,index=index_labels)\n",
        "print(\"Pandas Series\")\n",
        "print(series)"
      ],
      "metadata": {
        "colab": {
          "base_uri": "https://localhost:8080/"
        },
        "id": "hN3S0eEHkBWO",
        "outputId": "d62bc98d-99d8-47ef-a641-31be4efddf4d"
      },
      "execution_count": 5,
      "outputs": [
        {
          "output_type": "stream",
          "name": "stdout",
          "text": [
            "Pandas Series\n",
            "a    10\n",
            "b    20\n",
            "c    30\n",
            "d    40\n",
            "e    50\n",
            "dtype: int64\n"
          ]
        }
      ]
    },
    {
      "cell_type": "markdown",
      "source": [
        "creating a dataframe"
      ],
      "metadata": {
        "id": "yfI8i0Tro8UG"
      }
    },
    {
      "cell_type": "code",
      "source": [
        "import pandas as pd\n",
        "data={\n",
        "    'name':['alice','bob','charlie','david'],\n",
        "    'age':[25,30,35,40],\n",
        "    'city':['hyderabad','delhi','chennai','mumbai']\n",
        "}\n",
        "df=pd.DataFrame(data)\n",
        "print(df)"
      ],
      "metadata": {
        "colab": {
          "base_uri": "https://localhost:8080/"
        },
        "id": "KVHfPM2LkPFl",
        "outputId": "2435b783-4e53-432a-9a4b-53b34ce168cc"
      },
      "execution_count": 18,
      "outputs": [
        {
          "output_type": "stream",
          "name": "stdout",
          "text": [
            "      name  age       city\n",
            "0    alice   25  hyderabad\n",
            "1      bob   30      delhi\n",
            "2  charlie   35    chennai\n",
            "3    david   40     mumbai\n"
          ]
        }
      ]
    },
    {
      "cell_type": "markdown",
      "source": [
        "basic dataframe operations\n",
        "a) accessing data"
      ],
      "metadata": {
        "id": "uUeXXx9do_0n"
      }
    },
    {
      "cell_type": "code",
      "source": [
        "print(df['name'])\n",
        "print(df[['name','city']])\n",
        "print(df.iloc[1])\n",
        "print(df.loc[2])"
      ],
      "metadata": {
        "colab": {
          "base_uri": "https://localhost:8080/"
        },
        "id": "3M87j6OnmNH0",
        "outputId": "21e5f699-e874-4e88-d666-846e6a5fc192"
      },
      "execution_count": 10,
      "outputs": [
        {
          "output_type": "stream",
          "name": "stdout",
          "text": [
            "0      alice\n",
            "1        bob\n",
            "2    charlie\n",
            "3      david\n",
            "Name: name, dtype: object\n",
            "      name       city\n",
            "0    alice  hyderabad\n",
            "1      bob      delhi\n",
            "2  charlie    chennai\n",
            "3    david     mumbai\n",
            "name      bob\n",
            "age        30\n",
            "city    delhi\n",
            "Name: 1, dtype: object\n",
            "name    charlie\n",
            "age          35\n",
            "city    chennai\n",
            "Name: 2, dtype: object\n"
          ]
        }
      ]
    },
    {
      "cell_type": "markdown",
      "source": [
        "b) adding a new column"
      ],
      "metadata": {
        "id": "Ms7LVVaCpH0E"
      }
    },
    {
      "cell_type": "code",
      "source": [
        "df['salary']=[40000,50000,60000,70000]\n",
        "print(df)"
      ],
      "metadata": {
        "colab": {
          "base_uri": "https://localhost:8080/"
        },
        "id": "GZvlKU47nTW4",
        "outputId": "1f2b64c5-6590-446c-db34-7a7f0014158f"
      },
      "execution_count": 11,
      "outputs": [
        {
          "output_type": "stream",
          "name": "stdout",
          "text": [
            "      name  age       city  salary\n",
            "0    alice   25  hyderabad   40000\n",
            "1      bob   30      delhi   50000\n",
            "2  charlie   35    chennai   60000\n",
            "3    david   40     mumbai   70000\n"
          ]
        }
      ]
    },
    {
      "cell_type": "markdown",
      "source": [
        "removing a column"
      ],
      "metadata": {
        "id": "YHHV7qGspLqb"
      }
    },
    {
      "cell_type": "code",
      "source": [
        "df=df.drop('city',axis=1)\n",
        "print(df)"
      ],
      "metadata": {
        "colab": {
          "base_uri": "https://localhost:8080/"
        },
        "id": "C8JfT2pwniOh",
        "outputId": "0c4efef7-ec57-4e66-dfea-d13065f7f2f9"
      },
      "execution_count": 12,
      "outputs": [
        {
          "output_type": "stream",
          "name": "stdout",
          "text": [
            "      name  age  salary\n",
            "0    alice   25   40000\n",
            "1      bob   30   50000\n",
            "2  charlie   35   60000\n",
            "3    david   40   70000\n"
          ]
        }
      ]
    },
    {
      "cell_type": "markdown",
      "source": [
        "d) filtering data"
      ],
      "metadata": {
        "id": "kv5fsJGspReu"
      }
    },
    {
      "cell_type": "code",
      "source": [
        "print(df[df['age']>30])"
      ],
      "metadata": {
        "colab": {
          "base_uri": "https://localhost:8080/"
        },
        "id": "vAuOhfSYnssB",
        "outputId": "fa46da12-30c6-4075-a834-2b0dd69641e3"
      },
      "execution_count": 14,
      "outputs": [
        {
          "output_type": "stream",
          "name": "stdout",
          "text": [
            "      name  age  salary\n",
            "2  charlie   35   60000\n",
            "3    david   40   70000\n"
          ]
        }
      ]
    },
    {
      "cell_type": "markdown",
      "source": [
        "e) basic statistics"
      ],
      "metadata": {
        "id": "30SfeyQ5pU0U"
      }
    },
    {
      "cell_type": "code",
      "source": [
        "print(df['age'].mean())\n",
        "print(df['age'].max())\n",
        "print(df['age'].min())"
      ],
      "metadata": {
        "colab": {
          "base_uri": "https://localhost:8080/"
        },
        "id": "Zjn2R903n68K",
        "outputId": "cf1369f9-6bed-4cac-a001-aa5d73b3c0df"
      },
      "execution_count": 16,
      "outputs": [
        {
          "output_type": "stream",
          "name": "stdout",
          "text": [
            "32.5\n",
            "40\n",
            "25\n"
          ]
        }
      ]
    }
  ]
}