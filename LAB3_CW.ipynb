{
  "nbformat": 4,
  "nbformat_minor": 0,
  "metadata": {
    "colab": {
      "provenance": [],
      "authorship_tag": "ABX9TyOjpWy015jTlu/sChygGgB7",
      "include_colab_link": true
    },
    "kernelspec": {
      "name": "python3",
      "display_name": "Python 3"
    },
    "language_info": {
      "name": "python"
    }
  },
  "cells": [
    {
      "cell_type": "markdown",
      "metadata": {
        "id": "view-in-github",
        "colab_type": "text"
      },
      "source": [
        "<a href=\"https://colab.research.google.com/github/Sony-Dodla/b23_1666/blob/main/LAB3_CW.ipynb\" target=\"_parent\"><img src=\"https://colab.research.google.com/assets/colab-badge.svg\" alt=\"Open In Colab\"/></a>"
      ]
    },
    {
      "cell_type": "code",
      "execution_count": 18,
      "metadata": {
        "colab": {
          "base_uri": "https://localhost:8080/"
        },
        "id": "a6isOY-e3Y2V",
        "outputId": "880f5606-8adc-495d-9bd8-72e5ba0cc411"
      },
      "outputs": [
        {
          "output_type": "stream",
          "name": "stdout",
          "text": [
            "hello\n",
            "\n",
            "hai\n",
            "\n",
            "this is file handling in python\n",
            "\n",
            "sr university\n",
            "\n",
            "sony dodla\n",
            "\n"
          ]
        }
      ],
      "source": [
        "fp=open('text.java','w')\n",
        "fp.write(\"hello\\n\")\n",
        "fp.write(\"hai\\n\")\n",
        "fp.write(\"this is file handling in python\\n\")\n",
        "fp.write(\"sr university\\n\")\n",
        "fp.write(\"sony dodla\\n\")\n",
        "fp.close()\n",
        "fp=open('text.java','r')\n",
        "for line in fp:\n",
        "    print(line)\n",
        "fp.close()"
      ]
    },
    {
      "cell_type": "code",
      "source": [
        "fp=open('text.java','r')\n",
        "info=fp.read()\n",
        "print(info)"
      ],
      "metadata": {
        "colab": {
          "base_uri": "https://localhost:8080/"
        },
        "id": "QBwh3-1N8hte",
        "outputId": "8e55fb13-94ea-49a2-aa20-73cd27b5faa2"
      },
      "execution_count": 19,
      "outputs": [
        {
          "output_type": "stream",
          "name": "stdout",
          "text": [
            "hello\n",
            "hai\n",
            "this is file handling in python\n",
            "sr university\n",
            "sony dodla\n",
            "\n"
          ]
        }
      ]
    },
    {
      "cell_type": "code",
      "source": [
        "fp=open(\"text.java\",\"r\")\n",
        "line1=fp.readline()\n",
        "line2=fp.readline()\n",
        "print(\"first line:\",line1)\n",
        "print(\"second line:\",line2)"
      ],
      "metadata": {
        "colab": {
          "base_uri": "https://localhost:8080/"
        },
        "id": "NmyMaM9z97C7",
        "outputId": "30938c23-fdea-4297-b09f-241041473e3c"
      },
      "execution_count": 21,
      "outputs": [
        {
          "output_type": "stream",
          "name": "stdout",
          "text": [
            "first line: hello\n",
            "\n",
            "second line: hai\n",
            "\n"
          ]
        }
      ]
    },
    {
      "cell_type": "code",
      "source": [
        "fp=open(\"text.java\",\"r\")\n",
        "lines=fp.readlines()\n",
        "print(\"all lines as list:\",lines)\n",
        "fp.close()"
      ],
      "metadata": {
        "colab": {
          "base_uri": "https://localhost:8080/"
        },
        "id": "lTi8j8DC-9z1",
        "outputId": "48b7c1be-540c-44ca-92a6-6d71a1164099"
      },
      "execution_count": 23,
      "outputs": [
        {
          "output_type": "stream",
          "name": "stdout",
          "text": [
            "all lines as list: ['hello\\n', 'hai\\n', 'this is file handling in python\\n', 'sr university\\n', 'sony dodla\\n']\n"
          ]
        }
      ]
    },
    {
      "cell_type": "code",
      "source": [
        "fp=open(\"text.java\",\"a\")\n",
        "fp.write(\"appending new data....\\n\")\n",
        "fp=open(\"text.java\",\"r\")\n",
        "print(fp.read())\n",
        "fp.close()"
      ],
      "metadata": {
        "colab": {
          "base_uri": "https://localhost:8080/"
        },
        "id": "tvY-A09f_h1Q",
        "outputId": "6f982a23-179f-4926-fbe5-15baf600d5b7"
      },
      "execution_count": 28,
      "outputs": [
        {
          "output_type": "stream",
          "name": "stdout",
          "text": [
            "hello\n",
            "hai\n",
            "this is file handling in python\n",
            "sr university\n",
            "sony dodla\n",
            "appending new data....\n",
            "appending new data....\n",
            "appending new data....\n",
            "appending new data....\n",
            "\n"
          ]
        }
      ]
    },
    {
      "cell_type": "code",
      "source": [
        "import csv\n",
        "with open(\"data.csv\",\"w\",newline=\"\") as fp:\n",
        "    wr=csv.writer(fp)\n",
        "    wr.writerows([[\"name\",\"age\",\"course\"],[\"sony\",21,\"cse\"],[\"amulya\",20,\"cse\"],[\"harshitha\",21,\"cse\"]])\n",
        "from csv import reader\n",
        "with open(\"data.csv\",\"r\") as fp:\n",
        "    rd=csv.reader(fp)\n",
        "    for row in rd:\n",
        "        print(row)"
      ],
      "metadata": {
        "colab": {
          "base_uri": "https://localhost:8080/"
        },
        "id": "da1aqkUP_vQl",
        "outputId": "4921a1c8-4236-4ff1-815d-387fa09bf161"
      },
      "execution_count": 30,
      "outputs": [
        {
          "output_type": "stream",
          "name": "stdout",
          "text": [
            "['name', 'age', 'course']\n",
            "['sony', '21', 'cse']\n",
            "['amulya', '20', 'cse']\n",
            "['harshitha', '21', 'cse']\n"
          ]
        }
      ]
    },
    {
      "cell_type": "code",
      "source": [
        "import numpy as np\n",
        "#1D array\n",
        "arr=np.array([1,2,3,4,5])\n",
        "print(\"1D ARRAY:\",arr)"
      ],
      "metadata": {
        "colab": {
          "base_uri": "https://localhost:8080/"
        },
        "id": "examPX4-C4sD",
        "outputId": "fe7fc54b-45c3-4569-ad50-f9d1e72deb81"
      },
      "execution_count": 31,
      "outputs": [
        {
          "output_type": "stream",
          "name": "stdout",
          "text": [
            "1D ARRAY: [1 2 3 4 5]\n"
          ]
        }
      ]
    },
    {
      "cell_type": "code",
      "source": [
        "#2D array\n",
        "arr2=np.array([[1,2,3],[4,5,6]])\n",
        "print(\"2D ARRAY:\\n\",arr2)"
      ],
      "metadata": {
        "colab": {
          "base_uri": "https://localhost:8080/"
        },
        "id": "Rv7OK382EwGV",
        "outputId": "7748aa8c-b9e7-4366-d8da-87017abd56d9"
      },
      "execution_count": 33,
      "outputs": [
        {
          "output_type": "stream",
          "name": "stdout",
          "text": [
            "2D ARRAY:\n",
            " [[1 2 3]\n",
            " [4 5 6]]\n"
          ]
        }
      ]
    },
    {
      "cell_type": "code",
      "source": [
        "#zero array\n",
        "zeros_arr=np.zeros((3,3))\n",
        "print(\"ZEROS ARRAY:\\n\",zeros_arr)"
      ],
      "metadata": {
        "colab": {
          "base_uri": "https://localhost:8080/"
        },
        "id": "oprnTgvBE741",
        "outputId": "af48dbe3-e1c0-4c19-cdb8-76b354d433b2"
      },
      "execution_count": 34,
      "outputs": [
        {
          "output_type": "stream",
          "name": "stdout",
          "text": [
            "ZEROS ARRAY:\n",
            " [[0. 0. 0.]\n",
            " [0. 0. 0.]\n",
            " [0. 0. 0.]]\n"
          ]
        }
      ]
    },
    {
      "cell_type": "code",
      "source": [
        "#ones array\n",
        "ones_arr=np.ones((2,4))\n",
        "print(\"ONES ARRAY:\\n\",ones_arr)"
      ],
      "metadata": {
        "colab": {
          "base_uri": "https://localhost:8080/"
        },
        "id": "HWdC4z_RFKb1",
        "outputId": "b2a9ec11-eb96-4b7e-f088-bb5ae585c0ca"
      },
      "execution_count": 35,
      "outputs": [
        {
          "output_type": "stream",
          "name": "stdout",
          "text": [
            "ONES ARRAY:\n",
            " [[1. 1. 1. 1.]\n",
            " [1. 1. 1. 1.]]\n"
          ]
        }
      ]
    },
    {
      "cell_type": "code",
      "source": [
        "# range of numbers\n",
        "range_arr=np.arange(1,10,2)\n",
        "#start stop,step\n",
        "print(\"RANGE ARRAY:\\n\",range_arr)"
      ],
      "metadata": {
        "colab": {
          "base_uri": "https://localhost:8080/"
        },
        "id": "x-hP5_LqFRoU",
        "outputId": "197d21b3-a27d-4637-f710-a756da39c675"
      },
      "execution_count": 36,
      "outputs": [
        {
          "output_type": "stream",
          "name": "stdout",
          "text": [
            "RANGE ARRAY:\n",
            " [1 3 5 7 9]\n"
          ]
        }
      ]
    },
    {
      "cell_type": "code",
      "source": [
        "# random array\n",
        "rand_arr=np.random.rand(2,3)\n",
        "print(\"RANDOM ARRAY:\\n\",rand_arr)"
      ],
      "metadata": {
        "colab": {
          "base_uri": "https://localhost:8080/"
        },
        "id": "lfPBMfvFFeLM",
        "outputId": "dc04e41b-7ee0-4ed2-910f-1f44b13fdf0a"
      },
      "execution_count": 39,
      "outputs": [
        {
          "output_type": "stream",
          "name": "stdout",
          "text": [
            "RANDOM ARRAY:\n",
            " [[0.44876249 0.99240431 0.88276511]\n",
            " [0.48360968 0.15384891 0.30751628]]\n"
          ]
        }
      ]
    },
    {
      "cell_type": "code",
      "source": [
        "arr=np.array([[1,2,3],[4,5,6]])\n",
        "print(\"SHAPE OF ARRAY:\",arr.shape)\n",
        "print(\"dimension:\",arr.ndim)\n",
        "print(\"size:\",arr.size)\n",
        "print(\"data type:\",arr.dtype)\n",
        "print(\"item size:\",arr.itemsize)"
      ],
      "metadata": {
        "colab": {
          "base_uri": "https://localhost:8080/"
        },
        "id": "3BwbaXw9IIq8",
        "outputId": "27958ee9-690b-4b18-bf57-aa83433b975f"
      },
      "execution_count": 40,
      "outputs": [
        {
          "output_type": "stream",
          "name": "stdout",
          "text": [
            "SHAPE OF ARRAY: (2, 3)\n",
            "dimension: 2\n",
            "size: 6\n",
            "data type: int64\n",
            "item size: 8\n"
          ]
        }
      ]
    },
    {
      "cell_type": "code",
      "source": [
        "arr=np.array([10,20,30,40,50])\n",
        "print(\"first element:\",arr[0])\n",
        "print(\"last element:\",arr[-1])\n",
        "print(\"slice[1:4]:\",arr[1:4])\n",
        "print(\"every second element:\",arr[::2])"
      ],
      "metadata": {
        "colab": {
          "base_uri": "https://localhost:8080/"
        },
        "id": "VTfC-mVtLLdT",
        "outputId": "2e0ba3aa-276d-443b-c89f-127872c6839b"
      },
      "execution_count": 42,
      "outputs": [
        {
          "output_type": "stream",
          "name": "stdout",
          "text": [
            "first element: 10\n",
            "last element: 50\n",
            "slice[1:4]: [20 30 40]\n",
            "every second element: [10 30 50]\n"
          ]
        }
      ]
    },
    {
      "cell_type": "code",
      "source": [
        "#2D indexing\n",
        "arr2=np.array([[1,2,3],[4,5,6]])\n",
        "print(\"element at row 1,col 2:\",arr2[0,1])\n",
        "print(\"second row :\",arr2[1,:])\n",
        "print(\"second col:\",arr2[:,1])"
      ],
      "metadata": {
        "colab": {
          "base_uri": "https://localhost:8080/"
        },
        "id": "r_sBrI0FMiQ4",
        "outputId": "f2600a8a-dd6c-4899-a7c8-a45771a84391"
      },
      "execution_count": 44,
      "outputs": [
        {
          "output_type": "stream",
          "name": "stdout",
          "text": [
            "element at row 1,col 2: 2\n",
            "second row : [4 5 6]\n",
            "second col: [2 5]\n"
          ]
        }
      ]
    },
    {
      "cell_type": "code",
      "source": [
        "arr=np.array([[1,2,3],[4,5,6]])\n",
        "print(\"before reshaping:\\n\",arr)\n",
        "arr=arr.reshape(3,2)\n",
        "print(\"after reshaping:\\n\",arr)"
      ],
      "metadata": {
        "colab": {
          "base_uri": "https://localhost:8080/"
        },
        "id": "g-GNAiAzPziU",
        "outputId": "bd47fc8b-11cf-4b22-a9d2-e308302639ac"
      },
      "execution_count": 45,
      "outputs": [
        {
          "output_type": "stream",
          "name": "stdout",
          "text": [
            "before reshaping:\n",
            " [[1 2 3]\n",
            " [4 5 6]]\n",
            "after reshaping:\n",
            " [[1 2]\n",
            " [3 4]\n",
            " [5 6]]\n"
          ]
        }
      ]
    },
    {
      "cell_type": "code",
      "source": [
        "a=np.array([1,2,3])\n",
        "b=np.array([4,5,6])\n",
        "print(\"Addition:\",a+b)\n",
        "print(\"Subtraction:\",a-b)\n",
        "print(\"Multiplication:\",a*b)\n",
        "print(\"Division:\",a/b)\n",
        "print(\"Power:\",a**2)"
      ],
      "metadata": {
        "colab": {
          "base_uri": "https://localhost:8080/"
        },
        "id": "PKrn4b5JRlXS",
        "outputId": "bbb98d89-201b-4ba0-c64b-6cbf3980918c"
      },
      "execution_count": 49,
      "outputs": [
        {
          "output_type": "stream",
          "name": "stdout",
          "text": [
            "Addition: [5 7 9]\n",
            "Subtraction: [-3 -3 -3]\n",
            "Multiplication: [ 4 10 18]\n",
            "Division: [0.25 0.4  0.5 ]\n",
            "Power: [1 4 9]\n"
          ]
        }
      ]
    },
    {
      "cell_type": "code",
      "source": [
        "#Aggregate functions\n",
        "arr=np.array([[1,2,3],[4,5,6]])\n",
        "print(\"sum:\",np.sum(arr))\n",
        "print(\"min:\",np.min(arr))\n",
        "print(\"max:\",np.max(arr))\n",
        "print(\"mean:\",np.mean(arr))\n",
        "print(\"median:\",np.median(arr))\n",
        "print(\"standard deviation:\",np.std(arr))\n",
        "print(\"sum of axis 0:\",np.sum(arr,axis=0))\n",
        "print(\"sum of axis 1:\",np.sum(arr,axis=1))"
      ],
      "metadata": {
        "colab": {
          "base_uri": "https://localhost:8080/"
        },
        "id": "8Y9X2dsQQE7Z",
        "outputId": "e45d1f27-786d-47ca-dbe5-dee287ed95ed"
      },
      "execution_count": 46,
      "outputs": [
        {
          "output_type": "stream",
          "name": "stdout",
          "text": [
            "sum: 21\n",
            "min: 1\n",
            "max: 6\n",
            "mean: 3.5\n",
            "median: 3.5\n",
            "standard deviation: 1.707825127659933\n",
            "sum of axis 0: [5 7 9]\n",
            "sum of axis 1: [ 6 15]\n"
          ]
        }
      ]
    },
    {
      "cell_type": "code",
      "source": [
        "arr=np.array([0,np.pi/2,np.pi/3,np.pi])\n",
        "print(\"sin values:\",np.sin(arr))\n",
        "print(\"cos values:\",np.cos(arr))\n",
        "print(\"square root:\",np.sqrt(arr))\n",
        "print(\"exponential:\",np.exp(arr))\n",
        "print(\"log values:\",np.log(arr))\n",
        "print(\"tan values:\",np.tan(arr))"
      ],
      "metadata": {
        "colab": {
          "base_uri": "https://localhost:8080/"
        },
        "id": "-L9v9P-ZQgXQ",
        "outputId": "252366bc-1eb5-4112-88db-f572187738fd"
      },
      "execution_count": 48,
      "outputs": [
        {
          "output_type": "stream",
          "name": "stdout",
          "text": [
            "sin values: [0.00000000e+00 1.00000000e+00 8.66025404e-01 1.22464680e-16]\n",
            "cos values: [ 1.000000e+00  6.123234e-17  5.000000e-01 -1.000000e+00]\n",
            "square root: [0.         1.25331414 1.02332671 1.77245385]\n",
            "exponential: [ 1.          4.81047738  2.84965391 23.14069263]\n",
            "log values: [      -inf 0.45158271 0.0461176  1.14472989]\n",
            "tan values: [ 0.00000000e+00  1.63312394e+16  1.73205081e+00 -1.22464680e-16]\n"
          ]
        },
        {
          "output_type": "stream",
          "name": "stderr",
          "text": [
            "/tmp/ipython-input-1048097776.py:6: RuntimeWarning: divide by zero encountered in log\n",
            "  print(\"log values:\",np.log(arr))\n"
          ]
        }
      ]
    },
    {
      "cell_type": "code",
      "source": [
        "#broadcasting\n",
        "a=np.array([1,2,3])\n",
        "b=5\n",
        "print(\"Add scalar to array :\",a+b)\n",
        "c=np.array([[1],[2],[3]])\n",
        "d=np.array([4,5,6])\n",
        "print(\"broadcasting:\\n\",c+d)"
      ],
      "metadata": {
        "colab": {
          "base_uri": "https://localhost:8080/"
        },
        "id": "w49Hu_6MTLKY",
        "outputId": "a819801c-994f-4516-a3b1-96521f0532f4"
      },
      "execution_count": 50,
      "outputs": [
        {
          "output_type": "stream",
          "name": "stdout",
          "text": [
            "Add scalar to array : [6 7 8]\n",
            "broadcasting:\n",
            " [[5 6 7]\n",
            " [6 7 8]\n",
            " [7 8 9]]\n"
          ]
        }
      ]
    },
    {
      "cell_type": "code",
      "source": [
        "A=np.array([[1,2],[3,4]])\n",
        "B=np.array([[5,6],[7,8]])\n",
        "print(\"matrix multiplication:\\n\",np.dot(A,B))\n",
        "print(\"Transpose:\\n\",A.T)\n",
        "print(\"Inverse:\\n\",np.linalg.inv(A))\n",
        "print(\"Determinant:\\n\",np.linalg.det(A))"
      ],
      "metadata": {
        "colab": {
          "base_uri": "https://localhost:8080/"
        },
        "id": "C3JAbPMXVCUv",
        "outputId": "d341dc10-c568-4a9b-fa64-f5c9b0a31fec"
      },
      "execution_count": 53,
      "outputs": [
        {
          "output_type": "stream",
          "name": "stdout",
          "text": [
            "matrix multiplication:\n",
            " [[19 22]\n",
            " [43 50]]\n",
            "Transpose:\n",
            " [[1 3]\n",
            " [2 4]]\n",
            "Inverse:\n",
            " [[-2.   1. ]\n",
            " [ 1.5 -0.5]]\n",
            "Determinant:\n",
            " -2.0000000000000004\n"
          ]
        }
      ]
    },
    {
      "cell_type": "code",
      "source": [
        "import numpy as np\n",
        "marks=np.array([[85,92,65],\n",
        "               [54,44,25],\n",
        "               [56,52,75]])\n",
        "print(\"average marks per student:\",np.mean(marks,axis=1))\n",
        "print(\"average marks per subject:\",np.mean(marks,axis=0))\n",
        "print(\"Highest marks in each subject:\", np.max(marks, axis=0))\n",
        "print(\"Lowest marks in each subject:\", np.min(marks, axis=0))"
      ],
      "metadata": {
        "colab": {
          "base_uri": "https://localhost:8080/"
        },
        "id": "lSdqNDTKV0KP",
        "outputId": "aac91776-e304-43d9-c68e-278b01c1456c"
      },
      "execution_count": 55,
      "outputs": [
        {
          "output_type": "stream",
          "name": "stdout",
          "text": [
            "average marks per student: [80.66666667 41.         61.        ]\n",
            "average marks per subject: [65.         62.66666667 55.        ]\n",
            "Highest marks in each subject: [85 92 75]\n",
            "Lowest marks in each subject: [54 44 25]\n"
          ]
        }
      ]
    }
  ]
}