{
  "nbformat": 4,
  "nbformat_minor": 0,
  "metadata": {
    "colab": {
      "provenance": [],
      "authorship_tag": "ABX9TyPFXfRaBn0kZZG0PLxVX4KS",
      "include_colab_link": true
    },
    "kernelspec": {
      "name": "python3",
      "display_name": "Python 3"
    },
    "language_info": {
      "name": "python"
    }
  },
  "cells": [
    {
      "cell_type": "markdown",
      "metadata": {
        "id": "view-in-github",
        "colab_type": "text"
      },
      "source": [
        "<a href=\"https://colab.research.google.com/github/Sony-Dodla/b23_1666/blob/main/LAB_04(CW).ipynb\" target=\"_parent\"><img src=\"https://colab.research.google.com/assets/colab-badge.svg\" alt=\"Open In Colab\"/></a>"
      ]
    },
    {
      "cell_type": "code",
      "execution_count": 1,
      "metadata": {
        "colab": {
          "base_uri": "https://localhost:8080/"
        },
        "id": "D1iF7bkp8QQL",
        "outputId": "0bc4f37b-0c29-479c-c980-c46db17f0dff"
      },
      "outputs": [
        {
          "output_type": "stream",
          "name": "stdout",
          "text": [
            "Pandas Series\n",
            "0    10\n",
            "1    20\n",
            "2    30\n",
            "3    40\n",
            "4    50\n",
            "dtype: int64\n"
          ]
        }
      ],
      "source": [
        "import pandas as pd\n",
        "data=[10,20,30,40,50]\n",
        "series=pd.Series(data)\n",
        "print(\"Pandas Series\")\n",
        "print(series)"
      ]
    },
    {
      "cell_type": "markdown",
      "source": [
        "##series with custom index"
      ],
      "metadata": {
        "id": "nSpN3NzW9Rjb"
      }
    },
    {
      "cell_type": "code",
      "source": [
        "import pandas as pd\n",
        "data=[10,20,30,40,50]\n",
        "index_labels=['a','b','c','d','e']\n",
        "series=pd.Series(data,index=index_labels)\n",
        "print(\"Pandas Series\")\n",
        "print(series)"
      ],
      "metadata": {
        "colab": {
          "base_uri": "https://localhost:8080/"
        },
        "id": "yb7HbKVk9OCv",
        "outputId": "0cbbe373-4d3c-417d-b075-6b1ac0cfcd97"
      },
      "execution_count": 2,
      "outputs": [
        {
          "output_type": "stream",
          "name": "stdout",
          "text": [
            "Pandas Series\n",
            "a    10\n",
            "b    20\n",
            "c    30\n",
            "d    40\n",
            "e    50\n",
            "dtype: int64\n"
          ]
        }
      ]
    },
    {
      "cell_type": "markdown",
      "source": [
        "##creating a dataframe"
      ],
      "metadata": {
        "id": "ClFpP2o69b3b"
      }
    },
    {
      "cell_type": "code",
      "source": [
        "import pandas as pd\n",
        "data={\n",
        "    'name':['alice','bob','charlie','david'],\n",
        "    'age':[25,30,35,40],\n",
        "    'city':['hyderabad','delhi','chennai','mumbai']\n",
        "}\n",
        "df=pd.DataFrame(data)\n",
        "print(df)"
      ],
      "metadata": {
        "colab": {
          "base_uri": "https://localhost:8080/"
        },
        "id": "yZYkg3W29YcL",
        "outputId": "3b65d3b8-bc3b-42e1-caa5-43e7b1b680c3"
      },
      "execution_count": 3,
      "outputs": [
        {
          "output_type": "stream",
          "name": "stdout",
          "text": [
            "      name  age       city\n",
            "0    alice   25  hyderabad\n",
            "1      bob   30      delhi\n",
            "2  charlie   35    chennai\n",
            "3    david   40     mumbai\n"
          ]
        }
      ]
    },
    {
      "cell_type": "markdown",
      "source": [
        "##basic dataframe operations a) accessing data"
      ],
      "metadata": {
        "id": "876SJd2i90zG"
      }
    },
    {
      "cell_type": "code",
      "source": [
        "print(df['name'])\n",
        "print(df[['name','city']])\n",
        "print(df.iloc[1])\n",
        "print(df.loc[2])"
      ],
      "metadata": {
        "colab": {
          "base_uri": "https://localhost:8080/"
        },
        "id": "U-zcmCu6925f",
        "outputId": "f52253da-e8b4-4141-9bff-ef4c71fa8ab1"
      },
      "execution_count": 4,
      "outputs": [
        {
          "output_type": "stream",
          "name": "stdout",
          "text": [
            "0      alice\n",
            "1        bob\n",
            "2    charlie\n",
            "3      david\n",
            "Name: name, dtype: object\n",
            "      name       city\n",
            "0    alice  hyderabad\n",
            "1      bob      delhi\n",
            "2  charlie    chennai\n",
            "3    david     mumbai\n",
            "name      bob\n",
            "age        30\n",
            "city    delhi\n",
            "Name: 1, dtype: object\n",
            "name    charlie\n",
            "age          35\n",
            "city    chennai\n",
            "Name: 2, dtype: object\n"
          ]
        }
      ]
    },
    {
      "cell_type": "code",
      "source": [
        "df['salary']=[40000,50000,60000,70000]\n",
        "print(df)"
      ],
      "metadata": {
        "colab": {
          "base_uri": "https://localhost:8080/"
        },
        "id": "ZmIqATrG-AAb",
        "outputId": "708ce363-f8e5-47f8-e91d-7c86665af964"
      },
      "execution_count": 5,
      "outputs": [
        {
          "output_type": "stream",
          "name": "stdout",
          "text": [
            "      name  age       city  salary\n",
            "0    alice   25  hyderabad   40000\n",
            "1      bob   30      delhi   50000\n",
            "2  charlie   35    chennai   60000\n",
            "3    david   40     mumbai   70000\n"
          ]
        }
      ]
    },
    {
      "cell_type": "code",
      "source": [
        "df=df.drop('city',axis=1)\n",
        "print(df)"
      ],
      "metadata": {
        "colab": {
          "base_uri": "https://localhost:8080/"
        },
        "id": "-tyVMkA7-HXP",
        "outputId": "2d7cd447-febc-4d61-db6a-e0d67fcd2f45"
      },
      "execution_count": 6,
      "outputs": [
        {
          "output_type": "stream",
          "name": "stdout",
          "text": [
            "      name  age  salary\n",
            "0    alice   25   40000\n",
            "1      bob   30   50000\n",
            "2  charlie   35   60000\n",
            "3    david   40   70000\n"
          ]
        }
      ]
    },
    {
      "cell_type": "markdown",
      "source": [
        "##filtering the data"
      ],
      "metadata": {
        "id": "5C8MuW1QBRbL"
      }
    },
    {
      "cell_type": "code",
      "source": [
        "print(df[df['age']>30])"
      ],
      "metadata": {
        "colab": {
          "base_uri": "https://localhost:8080/"
        },
        "id": "GVST0Z6I-MYT",
        "outputId": "987259a2-7159-4e04-e708-4b39d8f8d1f0"
      },
      "execution_count": 7,
      "outputs": [
        {
          "output_type": "stream",
          "name": "stdout",
          "text": [
            "      name  age  salary\n",
            "2  charlie   35   60000\n",
            "3    david   40   70000\n"
          ]
        }
      ]
    },
    {
      "cell_type": "markdown",
      "source": [
        "##basic statistics"
      ],
      "metadata": {
        "id": "DflfvLm2BVtx"
      }
    },
    {
      "cell_type": "code",
      "source": [
        "print(df['age'].mean())\n",
        "print(df['age'].max())\n",
        "print(df['age'].min())"
      ],
      "metadata": {
        "colab": {
          "base_uri": "https://localhost:8080/"
        },
        "id": "kIE-70Wy-QRh",
        "outputId": "1d717092-0a6e-497c-e2f3-e312d0427188"
      },
      "execution_count": 8,
      "outputs": [
        {
          "output_type": "stream",
          "name": "stdout",
          "text": [
            "32.5\n",
            "40\n",
            "25\n"
          ]
        }
      ]
    },
    {
      "cell_type": "markdown",
      "source": [
        "##Real world example :student data"
      ],
      "metadata": {
        "id": "NnFXODxqDIbN"
      }
    },
    {
      "cell_type": "code",
      "source": [
        "import pandas as pd\n",
        "\n",
        "student_data={\n",
        "    'student_id':[101,102,103,104],\n",
        "    'name':['sony','harshitha','amulya','rishitha'],\n",
        "    'marks':[85,90,95,98],\n",
        "    'department':['cse','ece','eee','civil']\n",
        "}\n",
        "\n",
        "student_df = pd.DataFrame(student_data)\n",
        "\n",
        "print(\"Student Data Dictionary:\")\n",
        "print(student_data)\n",
        "print(\"\\nOriginal DataFrame (df):\")\n",
        "print(df)\n",
        "print(\"\\nStudent DataFrame (student_df):\")\n",
        "print(student_df)\n",
        "\n",
        "print(\"\\nstudents with marks>80:\")\n",
        "print(student_df[student_df['marks']>80])\n",
        "\n",
        "print(\"\\nstudents from cse department:\")\n",
        "print(student_df[student_df['department']=='cse'])\n",
        "\n",
        "# Corrected code to add the 'result' column\n",
        "student_df['result'] = ['pass' if x >= 40 else 'fail' for x in student_df['marks']]\n",
        "print(\"\\nStudent DataFrame with result column:\")\n",
        "print(student_df)"
      ],
      "metadata": {
        "colab": {
          "base_uri": "https://localhost:8080/"
        },
        "id": "8RGmzX49DQVw",
        "outputId": "c547dd87-84ee-430a-c77c-546bf489849f"
      },
      "execution_count": 19,
      "outputs": [
        {
          "output_type": "stream",
          "name": "stdout",
          "text": [
            "Student Data Dictionary:\n",
            "{'student_id': [101, 102, 103, 104], 'name': ['sony', 'harshitha', 'amulya', 'rishitha'], 'marks': [85, 90, 95, 98], 'department': ['cse', 'ece', 'eee', 'civil']}\n",
            "\n",
            "Original DataFrame (df):\n",
            "   student_id       name  marks department\n",
            "0         101       sony     85        cse\n",
            "1         102  harshitha     90        ece\n",
            "2         103     amulya     95        eee\n",
            "3         104   rishitha     98      civil\n",
            "\n",
            "Student DataFrame (student_df):\n",
            "   student_id       name  marks department\n",
            "0         101       sony     85        cse\n",
            "1         102  harshitha     90        ece\n",
            "2         103     amulya     95        eee\n",
            "3         104   rishitha     98      civil\n",
            "\n",
            "students with marks>80:\n",
            "   student_id       name  marks department\n",
            "0         101       sony     85        cse\n",
            "1         102  harshitha     90        ece\n",
            "2         103     amulya     95        eee\n",
            "3         104   rishitha     98      civil\n",
            "\n",
            "students from cse department:\n",
            "   student_id  name  marks department\n",
            "0         101  sony     85        cse\n",
            "\n",
            "Student DataFrame with result column:\n",
            "   student_id       name  marks department result\n",
            "0         101       sony     85        cse   pass\n",
            "1         102  harshitha     90        ece   pass\n",
            "2         103     amulya     95        eee   pass\n",
            "3         104   rishitha     98      civil   pass\n"
          ]
        }
      ]
    }
  ]
}