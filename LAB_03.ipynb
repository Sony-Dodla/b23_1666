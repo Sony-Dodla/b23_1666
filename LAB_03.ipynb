{
  "nbformat": 4,
  "nbformat_minor": 0,
  "metadata": {
    "colab": {
      "provenance": [],
      "authorship_tag": "ABX9TyPuH1Q+CewvnDT7tDbkLgSb",
      "include_colab_link": true
    },
    "kernelspec": {
      "name": "python3",
      "display_name": "Python 3"
    },
    "language_info": {
      "name": "python"
    }
  },
  "cells": [
    {
      "cell_type": "markdown",
      "metadata": {
        "id": "view-in-github",
        "colab_type": "text"
      },
      "source": [
        "<a href=\"https://colab.research.google.com/github/Sony-Dodla/b23_1666/blob/main/LAB_03.ipynb\" target=\"_parent\"><img src=\"https://colab.research.google.com/assets/colab-badge.svg\" alt=\"Open In Colab\"/></a>"
      ]
    },
    {
      "cell_type": "code",
      "execution_count": 5,
      "metadata": {
        "colab": {
          "base_uri": "https://localhost:8080/"
        },
        "id": "cBqcCXohOPPS",
        "outputId": "e714fb78-1997-4b9f-c6d2-5099910a7ecc"
      },
      "outputs": [
        {
          "output_type": "stream",
          "name": "stdout",
          "text": [
            "Generated 4x4 Test Scores:\n",
            " [[51 92 14 71]\n",
            " [60 20 82 86]\n",
            " [74 74 87 99]\n",
            " [23  2 21 52]]\n"
          ]
        }
      ],
      "source": [
        "import numpy as np\n",
        "# 1. Generate a 4x4 array with random test scores (between 0-100)\n",
        "np.random.seed(42)  # For reproducibility\n",
        "scores = np.random.randint(0, 101, size=(4, 4))\n",
        "print(\"Generated 4x4 Test Scores:\\n\", scores)"
      ]
    },
    {
      "cell_type": "code",
      "source": [
        "# 2. Calculate row-wise and column-wise means\n",
        "row_means = np.mean(scores, axis=1)\n",
        "col_means = np.mean(scores, axis=0)\n",
        "print(\"\\nRow-wise Means:\", row_means)\n",
        "print(\"Column-wise Means:\", col_means)"
      ],
      "metadata": {
        "colab": {
          "base_uri": "https://localhost:8080/"
        },
        "id": "SUuIrd7XOXmd",
        "outputId": "8aa650a2-9b18-4a69-aae3-8adf82a2da2f"
      },
      "execution_count": 6,
      "outputs": [
        {
          "output_type": "stream",
          "name": "stdout",
          "text": [
            "\n",
            "Row-wise Means: [57.  62.  83.5 24.5]\n",
            "Column-wise Means: [52. 47. 51. 77.]\n"
          ]
        }
      ]
    },
    {
      "cell_type": "code",
      "source": [
        "# 3. Compute standard deviation and variance\n",
        "std_dev = np.std(scores)\n",
        "variance = np.var(scores)\n",
        "print(\"\\nStandard Deviation (Global):\", std_dev)\n",
        "print(\"Variance (Global):\", variance)"
      ],
      "metadata": {
        "colab": {
          "base_uri": "https://localhost:8080/"
        },
        "id": "tVLUC-zrObam",
        "outputId": "76358d44-bbd7-4240-d08d-ddfb23c252e9"
      },
      "execution_count": 7,
      "outputs": [
        {
          "output_type": "stream",
          "name": "stdout",
          "text": [
            "\n",
            "Standard Deviation (Global): 30.509219917919893\n",
            "Variance (Global): 930.8125\n"
          ]
        }
      ]
    },
    {
      "cell_type": "code",
      "source": [
        "# 4. Find global max and min and their indices\n",
        "global_max = np.max(scores)\n",
        "global_min = np.min(scores)\n",
        "max_index = np.unravel_index(np.argmax(scores), scores.shape)\n",
        "min_index = np.unravel_index(np.argmin(scores), scores.shape)\n",
        "print(\"\\nGlobal Max:\", global_max, \"at index\", max_index)\n",
        "print(\"Global Min:\", global_min, \"at index\", min_index)"
      ],
      "metadata": {
        "colab": {
          "base_uri": "https://localhost:8080/"
        },
        "id": "wkXo8ccXOfKT",
        "outputId": "93138f8d-d232-4e59-b9c2-2fffe1ea21dd"
      },
      "execution_count": 8,
      "outputs": [
        {
          "output_type": "stream",
          "name": "stdout",
          "text": [
            "\n",
            "Global Max: 99 at index (np.int64(2), np.int64(3))\n",
            "Global Min: 2 at index (np.int64(3), np.int64(1))\n"
          ]
        }
      ]
    },
    {
      "cell_type": "markdown",
      "source": [
        "##question-2"
      ],
      "metadata": {
        "id": "H_rwboykS2hQ"
      }
    },
    {
      "cell_type": "code",
      "source": [
        "import numpy as np\n",
        "# 1. Create a 3D NumPy array of shape (3x3x3) with random pixel values (0–255)\n",
        "np.random.seed(42)  # For reproducibility\n",
        "image = np.random.randint(0, 256, size=(3, 3, 3), dtype=np.uint8)\n",
        "print(\"Original RGB Image Array:\\n\", image)\n"
      ],
      "metadata": {
        "colab": {
          "base_uri": "https://localhost:8080/"
        },
        "id": "LiIOBLqZOlzq",
        "outputId": "641c186d-0604-413c-e4da-58adb4c8afb8"
      },
      "execution_count": 9,
      "outputs": [
        {
          "output_type": "stream",
          "name": "stdout",
          "text": [
            "Original RGB Image Array:\n",
            " [[[102 220 225]\n",
            "  [ 95 179  61]\n",
            "  [234 203  92]]\n",
            "\n",
            " [[  3  98 243]\n",
            "  [ 14 149 245]\n",
            "  [ 46 106 244]]\n",
            "\n",
            " [[ 99 187  71]\n",
            "  [212 153 199]\n",
            "  [188 174  65]]]\n"
          ]
        }
      ]
    },
    {
      "cell_type": "code",
      "source": [
        "# 2. Extract the red, green, and blue channels (using slicing)\n",
        "red_channel = image[:, :, 0]\n",
        "green_channel = image[:, :, 1]\n",
        "blue_channel = image[:, :, 2]\n",
        "print(\"\\nRed Channel:\\n\", red_channel)\n",
        "print(\"\\nGreen Channel:\\n\", green_channel)\n",
        "print(\"\\nBlue Channel:\\n\", blue_channel)\n",
        "\n",
        "# 3. Compute average pixel intensity per channel\n",
        "avg_red = np.mean(red_channel)\n",
        "avg_green = np.mean(green_channel)\n",
        "avg_blue = np.mean(blue_channel)\n",
        "\n",
        "print(\"\\nAverage Intensity - Red:\", avg_red)\n",
        "print(\"Average Intensity - Green:\", avg_green)\n",
        "print(\"Average Intensity - Blue:\", avg_blue)\n",
        "\n",
        "# 4. Brighten the image by adding a scalar (e.g., 50) and clipping values at 255\n",
        "brightened_image = np.clip(image + 50, 0, 255).astype(np.uint8)\n",
        "print(\"\\nBrightened Image Array:\\n\", brightened_image)"
      ],
      "metadata": {
        "colab": {
          "base_uri": "https://localhost:8080/"
        },
        "id": "B2sFSsjXSnKP",
        "outputId": "a21e92a3-2854-4e6b-8a87-1389f1333386"
      },
      "execution_count": 11,
      "outputs": [
        {
          "output_type": "stream",
          "name": "stdout",
          "text": [
            "\n",
            "Red Channel:\n",
            " [[102  95 234]\n",
            " [  3  14  46]\n",
            " [ 99 212 188]]\n",
            "\n",
            "Green Channel:\n",
            " [[220 179 203]\n",
            " [ 98 149 106]\n",
            " [187 153 174]]\n",
            "\n",
            "Blue Channel:\n",
            " [[225  61  92]\n",
            " [243 245 244]\n",
            " [ 71 199  65]]\n",
            "\n",
            "Average Intensity - Red: 110.33333333333333\n",
            "Average Intensity - Green: 163.22222222222223\n",
            "Average Intensity - Blue: 160.55555555555554\n",
            "\n",
            "Brightened Image Array:\n",
            " [[[152  14  19]\n",
            "  [145 229 111]\n",
            "  [ 28 253 142]]\n",
            "\n",
            " [[ 53 148  37]\n",
            "  [ 64 199  39]\n",
            "  [ 96 156  38]]\n",
            "\n",
            " [[149 237 121]\n",
            "  [  6 203 249]\n",
            "  [238 224 115]]]\n"
          ]
        }
      ]
    }
  ]
}