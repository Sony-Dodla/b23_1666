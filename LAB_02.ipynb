{
  "nbformat": 4,
  "nbformat_minor": 0,
  "metadata": {
    "colab": {
      "provenance": [],
      "authorship_tag": "ABX9TyPYaKCC3uZC2kr3e6Yg9HmV",
      "include_colab_link": true
    },
    "kernelspec": {
      "name": "python3",
      "display_name": "Python 3"
    },
    "language_info": {
      "name": "python"
    }
  },
  "cells": [
    {
      "cell_type": "markdown",
      "metadata": {
        "id": "view-in-github",
        "colab_type": "text"
      },
      "source": [
        "<a href=\"https://colab.research.google.com/github/Sony-Dodla/b23_1666/blob/main/LAB_02.ipynb\" target=\"_parent\"><img src=\"https://colab.research.google.com/assets/colab-badge.svg\" alt=\"Open In Colab\"/></a>"
      ]
    },
    {
      "cell_type": "code",
      "execution_count": 1,
      "metadata": {
        "id": "0i9h_wdBCpYM"
      },
      "outputs": [],
      "source": [
        "import numpy as np"
      ]
    },
    {
      "cell_type": "code",
      "source": [
        "arr=np.array([[98,99,97],[89,87,94],[79,89,86]])\n",
        "print(arr)"
      ],
      "metadata": {
        "colab": {
          "base_uri": "https://localhost:8080/"
        },
        "id": "txXLjxViCwVu",
        "outputId": "1e3981af-a12e-4923-d38f-e809cae03c14"
      },
      "execution_count": 2,
      "outputs": [
        {
          "output_type": "stream",
          "name": "stdout",
          "text": [
            "[[98 99 97]\n",
            " [89 87 94]\n",
            " [79 89 86]]\n"
          ]
        }
      ]
    },
    {
      "cell_type": "code",
      "source": [
        "for i in range(0,3):\n",
        "  print(arr[i])"
      ],
      "metadata": {
        "colab": {
          "base_uri": "https://localhost:8080/"
        },
        "id": "XYTP8TGDCzkM",
        "outputId": "c882419a-a90d-4729-ba42-87b1ed075dd8"
      },
      "execution_count": 3,
      "outputs": [
        {
          "output_type": "stream",
          "name": "stdout",
          "text": [
            "[98 99 97]\n",
            "[89 87 94]\n",
            "[79 89 86]\n"
          ]
        }
      ]
    },
    {
      "cell_type": "markdown",
      "source": [
        "## Calculate average, minimum, and maximum marks"
      ],
      "metadata": {
        "id": "z8Np71RPC58l"
      }
    },
    {
      "cell_type": "code",
      "source": [
        "total_avg=np.mean(arr)\n",
        "print(total_avg)\n",
        "maxi=np.max(arr)\n",
        "print(maxi)\n",
        "mini=np.min(arr)\n",
        "print(mini)"
      ],
      "metadata": {
        "colab": {
          "base_uri": "https://localhost:8080/"
        },
        "id": "9UMvGc5kC3SN",
        "outputId": "2daf9daf-4700-4d45-ed26-827a3580cfb9"
      },
      "execution_count": 4,
      "outputs": [
        {
          "output_type": "stream",
          "name": "stdout",
          "text": [
            "90.88888888888889\n",
            "99\n",
            "79\n"
          ]
        }
      ]
    },
    {
      "cell_type": "code",
      "source": [
        "average_per_student = np.mean(arr, axis=1)\n",
        "min_per_student = np.min(arr, axis=1)\n",
        "max_per_student = np.max(arr, axis=1)\n",
        "for i in range(len(arr)):\n",
        "    print(f\"Student {i+1}: Marks = {arr[i]}, Avg = {average_per_student[i]:.2f}, Min = {min_per_student[i]}, Max = {max_per_student[i]}\")"
      ],
      "metadata": {
        "colab": {
          "base_uri": "https://localhost:8080/"
        },
        "id": "ifmM-KpzDAP8",
        "outputId": "2cc665ac-565e-4d62-c923-c61a88b8b5ad"
      },
      "execution_count": 5,
      "outputs": [
        {
          "output_type": "stream",
          "name": "stdout",
          "text": [
            "Student 1: Marks = [98 99 97], Avg = 98.00, Min = 97, Max = 99\n",
            "Student 2: Marks = [89 87 94], Avg = 90.00, Min = 87, Max = 94\n",
            "Student 3: Marks = [79 89 86], Avg = 84.67, Min = 79, Max = 89\n"
          ]
        }
      ]
    },
    {
      "cell_type": "markdown",
      "source": [
        "##Use slicing to retrieve marks of specific students"
      ],
      "metadata": {
        "id": "9OgKD3Z8DG2L"
      }
    },
    {
      "cell_type": "code",
      "source": [
        "print(\"\\nMarks of Student 2:\\n\", arr[1:2])"
      ],
      "metadata": {
        "colab": {
          "base_uri": "https://localhost:8080/"
        },
        "id": "0_Izo_u4DFCr",
        "outputId": "a74bfacc-e8ec-4bde-846b-74884df0e2b0"
      },
      "execution_count": 6,
      "outputs": [
        {
          "output_type": "stream",
          "name": "stdout",
          "text": [
            "\n",
            "Marks of Student 2:\n",
            " [[89 87 94]]\n"
          ]
        }
      ]
    },
    {
      "cell_type": "markdown",
      "source": [
        "##Use boolean indexing to find students scoring above 80"
      ],
      "metadata": {
        "id": "wo0glfjzDMp4"
      }
    },
    {
      "cell_type": "code",
      "source": [
        "above_80 = arr > 80\n",
        "print(\"\\n Boolean Array (Scores > 80):\\n\", above_80)"
      ],
      "metadata": {
        "colab": {
          "base_uri": "https://localhost:8080/"
        },
        "id": "be95B59aDK_8",
        "outputId": "30901fa6-dc3e-43e4-c9a0-4c74b170dd6b"
      },
      "execution_count": 7,
      "outputs": [
        {
          "output_type": "stream",
          "name": "stdout",
          "text": [
            "\n",
            " Boolean Array (Scores > 80):\n",
            " [[ True  True  True]\n",
            " [ True  True  True]\n",
            " [False  True  True]]\n"
          ]
        }
      ]
    },
    {
      "cell_type": "markdown",
      "source": [
        "##Reshape the array to observe subject-wise performance"
      ],
      "metadata": {
        "id": "ew-hrSwODUfn"
      }
    },
    {
      "cell_type": "code",
      "source": [
        "subject_wise = arr.T\n",
        "print(\"\\n Subject-wise Performance (Rows = Subjects):\\n\", subject_wise)"
      ],
      "metadata": {
        "colab": {
          "base_uri": "https://localhost:8080/"
        },
        "id": "Jmmkz0BoDROG",
        "outputId": "dc3260ec-7d0d-4d38-dfc2-e786ae010417"
      },
      "execution_count": 8,
      "outputs": [
        {
          "output_type": "stream",
          "name": "stdout",
          "text": [
            "\n",
            " Subject-wise Performance (Rows = Subjects):\n",
            " [[98 89 79]\n",
            " [99 87 89]\n",
            " [97 94 86]]\n"
          ]
        }
      ]
    }
  ]
}